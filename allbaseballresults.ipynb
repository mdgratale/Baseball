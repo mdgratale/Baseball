{
 "cells": [
  {
   "cell_type": "code",
   "execution_count": 1,
   "metadata": {
    "collapsed": false
   },
   "outputs": [
    {
     "name": "stdout",
     "output_type": "stream",
     "text": [
      "C:\\Users\\mgratale\\Desktop\\Baseball\\allresults\n"
     ]
    }
   ],
   "source": [
    "cd C:\\Users\\mgratale\\Desktop\\Baseball\\allresults"
   ]
  },
  {
   "cell_type": "code",
   "execution_count": 1,
   "metadata": {
    "collapsed": false
   },
   "outputs": [
    {
     "ename": "ImportError",
     "evalue": "No module named MySQLdb",
     "output_type": "error",
     "traceback": [
      "\u001b[1;31m---------------------------------------------------------------------------\u001b[0m",
      "\u001b[1;31mImportError\u001b[0m                               Traceback (most recent call last)",
      "\u001b[1;32m<ipython-input-1-a6e354569a9c>\u001b[0m in \u001b[0;36m<module>\u001b[1;34m()\u001b[0m\n\u001b[0;32m      1\u001b[0m \u001b[1;32mimport\u001b[0m \u001b[0mnumpy\u001b[0m \u001b[1;32mas\u001b[0m \u001b[0mnp\u001b[0m\u001b[1;33m\u001b[0m\u001b[0m\n\u001b[0;32m      2\u001b[0m \u001b[1;32mimport\u001b[0m \u001b[0mpandas\u001b[0m \u001b[1;32mas\u001b[0m \u001b[0mpd\u001b[0m\u001b[1;33m\u001b[0m\u001b[0m\n\u001b[1;32m----> 3\u001b[1;33m \u001b[1;32mimport\u001b[0m \u001b[0mMySQLdb\u001b[0m \u001b[1;32mas\u001b[0m \u001b[0mmdb\u001b[0m\u001b[1;33m\u001b[0m\u001b[0m\n\u001b[0m\u001b[0;32m      4\u001b[0m \u001b[1;32mimport\u001b[0m \u001b[0mmatplotlib\u001b[0m\u001b[1;33m.\u001b[0m\u001b[0mpyplot\u001b[0m \u001b[1;32mas\u001b[0m \u001b[0mplt\u001b[0m\u001b[1;33m\u001b[0m\u001b[0m\n\u001b[0;32m      5\u001b[0m \u001b[0mget_ipython\u001b[0m\u001b[1;33m(\u001b[0m\u001b[1;33m)\u001b[0m\u001b[1;33m.\u001b[0m\u001b[0mmagic\u001b[0m\u001b[1;33m(\u001b[0m\u001b[1;34mu'matplotlib inline'\u001b[0m\u001b[1;33m)\u001b[0m\u001b[1;33m\u001b[0m\u001b[0m\n",
      "\u001b[1;31mImportError\u001b[0m: No module named MySQLdb"
     ]
    }
   ],
   "source": [
    "import numpy as np\n",
    "import pandas as pd\n",
    "import MySQLdb as mdb\n",
    "import matplotlib.pyplot as plt\n",
    "%matplotlib inline"
   ]
  },
  {
   "cell_type": "code",
   "execution_count": 3,
   "metadata": {
    "collapsed": true
   },
   "outputs": [],
   "source": [
    "a=np.arange(0,11,1)"
   ]
  },
  {
   "cell_type": "code",
   "execution_count": 4,
   "metadata": {
    "collapsed": true
   },
   "outputs": [],
   "source": [
    "data2015=pd.read_csv('GL2015.txt',header=-1,usecols=a,names=['date','game','day','visitor','visitor_league','visitor_game_number','home','home_league','home_game_number','visitor_score','home_score'])\n",
    "data2014=pd.read_csv('GL2014.txt',header=-1,usecols=a,names=['date','game','day','visitor','visitor_league','visitor_game_number','home','home_league','home_game_number','visitor_score','home_score'])\n",
    "data2013=pd.read_csv('GL2013.txt',header=-1,usecols=a,names=['date','game','day','visitor','visitor_league','visitor_game_number','home','home_league','home_game_number','visitor_score','home_score'])\n",
    "data2012=pd.read_csv('GL2012.txt',header=-1,usecols=a,names=['date','game','day','visitor','visitor_league','visitor_game_number','home','home_league','home_game_number','visitor_score','home_score'])\n",
    "data2011=pd.read_csv('GL2011.txt',header=-1,usecols=a,names=['date','game','day','visitor','visitor_league','visitor_game_number','home','home_league','home_game_number','visitor_score','home_score'])\n",
    "data2010=pd.read_csv('GL2010.txt',header=-1,usecols=a,names=['date','game','day','visitor','visitor_league','visitor_game_number','home','home_league','home_game_number','visitor_score','home_score'])"
   ]
  },
  {
   "cell_type": "code",
   "execution_count": 5,
   "metadata": {
    "collapsed": false
   },
   "outputs": [
    {
     "data": {
      "text/html": [
       "<div>\n",
       "<table border=\"1\" class=\"dataframe\">\n",
       "  <thead>\n",
       "    <tr style=\"text-align: right;\">\n",
       "      <th></th>\n",
       "      <th>date</th>\n",
       "      <th>game</th>\n",
       "      <th>day</th>\n",
       "      <th>visitor</th>\n",
       "      <th>visitor_league</th>\n",
       "      <th>visitor_game_number</th>\n",
       "      <th>home</th>\n",
       "      <th>home_league</th>\n",
       "      <th>home_game_number</th>\n",
       "      <th>visitor_score</th>\n",
       "      <th>home_score</th>\n",
       "    </tr>\n",
       "  </thead>\n",
       "  <tbody>\n",
       "    <tr>\n",
       "      <th>0</th>\n",
       "      <td>20150405</td>\n",
       "      <td>0</td>\n",
       "      <td>Sun</td>\n",
       "      <td>SLN</td>\n",
       "      <td>NL</td>\n",
       "      <td>1</td>\n",
       "      <td>CHN</td>\n",
       "      <td>NL</td>\n",
       "      <td>1</td>\n",
       "      <td>3</td>\n",
       "      <td>0</td>\n",
       "    </tr>\n",
       "    <tr>\n",
       "      <th>1</th>\n",
       "      <td>20150406</td>\n",
       "      <td>0</td>\n",
       "      <td>Mon</td>\n",
       "      <td>MIN</td>\n",
       "      <td>AL</td>\n",
       "      <td>1</td>\n",
       "      <td>DET</td>\n",
       "      <td>AL</td>\n",
       "      <td>1</td>\n",
       "      <td>0</td>\n",
       "      <td>4</td>\n",
       "    </tr>\n",
       "    <tr>\n",
       "      <th>2</th>\n",
       "      <td>20150406</td>\n",
       "      <td>0</td>\n",
       "      <td>Mon</td>\n",
       "      <td>CLE</td>\n",
       "      <td>AL</td>\n",
       "      <td>1</td>\n",
       "      <td>HOU</td>\n",
       "      <td>AL</td>\n",
       "      <td>1</td>\n",
       "      <td>0</td>\n",
       "      <td>2</td>\n",
       "    </tr>\n",
       "    <tr>\n",
       "      <th>3</th>\n",
       "      <td>20150406</td>\n",
       "      <td>0</td>\n",
       "      <td>Mon</td>\n",
       "      <td>CHA</td>\n",
       "      <td>AL</td>\n",
       "      <td>1</td>\n",
       "      <td>KCA</td>\n",
       "      <td>AL</td>\n",
       "      <td>1</td>\n",
       "      <td>1</td>\n",
       "      <td>10</td>\n",
       "    </tr>\n",
       "    <tr>\n",
       "      <th>4</th>\n",
       "      <td>20150406</td>\n",
       "      <td>0</td>\n",
       "      <td>Mon</td>\n",
       "      <td>TOR</td>\n",
       "      <td>AL</td>\n",
       "      <td>1</td>\n",
       "      <td>NYA</td>\n",
       "      <td>AL</td>\n",
       "      <td>1</td>\n",
       "      <td>6</td>\n",
       "      <td>1</td>\n",
       "    </tr>\n",
       "  </tbody>\n",
       "</table>\n",
       "</div>"
      ],
      "text/plain": [
       "       date  game  day visitor visitor_league  visitor_game_number home  \\\n",
       "0  20150405     0  Sun     SLN             NL                    1  CHN   \n",
       "1  20150406     0  Mon     MIN             AL                    1  DET   \n",
       "2  20150406     0  Mon     CLE             AL                    1  HOU   \n",
       "3  20150406     0  Mon     CHA             AL                    1  KCA   \n",
       "4  20150406     0  Mon     TOR             AL                    1  NYA   \n",
       "\n",
       "  home_league  home_game_number  visitor_score  home_score  \n",
       "0          NL                 1              3           0  \n",
       "1          AL                 1              0           4  \n",
       "2          AL                 1              0           2  \n",
       "3          AL                 1              1          10  \n",
       "4          AL                 1              6           1  "
      ]
     },
     "execution_count": 5,
     "metadata": {},
     "output_type": "execute_result"
    }
   ],
   "source": [
    "data2015.head()"
   ]
  },
  {
   "cell_type": "code",
   "execution_count": 6,
   "metadata": {
    "collapsed": false
   },
   "outputs": [],
   "source": [
    "con=mdb.connect(host='localhost',user='root',passwd='thedog',db='mybaseball')"
   ]
  },
  {
   "cell_type": "code",
   "execution_count": 7,
   "metadata": {
    "collapsed": false
   },
   "outputs": [
    {
     "name": "stderr",
     "output_type": "stream",
     "text": [
      "C:\\Users\\mgratale\\Anaconda\\lib\\site-packages\\pandas\\io\\sql.py:599: FutureWarning: The 'mysql' flavor with DBAPI connection is deprecated and will be removed in future versions. MySQL will be further supported with SQLAlchemy engines.\n",
      "  warnings.warn(_MYSQL_WARNING, FutureWarning)\n"
     ]
    }
   ],
   "source": [
    "data2015.to_sql(con=con, name='games2015',if_exists='replace',flavor='mysql')\n",
    "data2014.to_sql(con=con, name='games2014',if_exists='replace',flavor='mysql')\n",
    "data2013.to_sql(con=con, name='games2013',if_exists='replace',flavor='mysql')\n",
    "data2012.to_sql(con=con, name='games2012',if_exists='replace',flavor='mysql')\n",
    "data2011.to_sql(con=con, name='games2011',if_exists='replace',flavor='mysql')\n",
    "data2010.to_sql(con=con, name='games2010',if_exists='replace',flavor='mysql')"
   ]
  },
  {
   "cell_type": "code",
   "execution_count": 9,
   "metadata": {
    "collapsed": false
   },
   "outputs": [
    {
     "data": {
      "text/plain": [
       "[<matplotlib.lines.Line2D at 0xe23d048>]"
      ]
     },
     "execution_count": 9,
     "metadata": {},
     "output_type": "execute_result"
    },
    {
     "data": {
      "image/png": "[encoded data removed]",
      "text/plain": [
       "<matplotlib.figure.Figure at 0x3d81b70>"
      ]
     },
     "metadata": {},
     "output_type": "display_data"
    }
   ],
   "source": [
    "plt.plot(data2015['home_score'],data2015['visitor_score'],'o')"
   ]
  },
  {
   "cell_type": "code",
   "execution_count": 10,
   "metadata": {
    "collapsed": false
   },
   "outputs": [
    {
     "data": {
      "text/plain": [
       "[<matplotlib.lines.Line2D at 0xcc15400>]"
      ]
     },
     "execution_count": 10,
     "metadata": {},
     "output_type": "execute_result"
    },
    {
     "data": {
      "image/png": "[encoded data removed]",
      "text/plain": [
       "<matplotlib.figure.Figure at 0xe23d2b0>"
      ]
     },
     "metadata": {},
     "output_type": "display_data"
    }
   ],
   "source": [
    "plt.plot(data2015['home_score'],'o')"
   ]
  }
 ],
 "metadata": {
  "anaconda-cloud": {},
  "kernelspec": {
   "display_name": "Python [Root]",
   "language": "python",
   "name": "Python [Root]"
  },
  "language_info": {
   "codemirror_mode": {
    "name": "ipython",
    "version": 2
   },
   "file_extension": ".py",
   "mimetype": "text/x-python",
   "name": "python",
   "nbconvert_exporter": "python",
   "pygments_lexer": "ipython2",
   "version": "2.7.12"
  }
 },
 "nbformat": 4,
 "nbformat_minor": 0
}
